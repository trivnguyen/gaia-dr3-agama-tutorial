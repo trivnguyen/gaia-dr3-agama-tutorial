{
 "cells": [
  {
   "cell_type": "markdown",
   "id": "bb4baf8f",
   "metadata": {},
   "source": [
    "# Action-Angle Coordinates Tutorial\n",
    "\n",
    "In this tutorial, we will use Agama to compute the *action-angle coordinates*. "
   ]
  },
  {
   "cell_type": "code",
   "execution_count": 2,
   "id": "47d709ea",
   "metadata": {},
   "outputs": [],
   "source": [
    "import numpy as np\n",
    "import matplotlib as mpl\n",
    "import matplotlib.pyplot as plt\n",
    "\n",
    "import agama\n",
    "\n",
    "%matplotlib inline\n",
    "\n",
    "mpl.rcParams.update({\n",
    "    'font.size': 20,\n",
    "    'figure.figsize': (8, 6),\n",
    "    'figure.facecolor': 'w',\n",
    "    'axes.linewidth': 2,\n",
    "    'xtick.direction': 'in',\n",
    "    'ytick.direction': 'in',\n",
    "})"
   ]
  },
  {
   "cell_type": "markdown",
   "id": "1761742d",
   "metadata": {},
   "source": [
    "## Calculate the potential\n",
    "\n",
    "In order to calculate the action-angle coordinates, we first need to estimate the potential $U(x)$ of the system."
   ]
  },
  {
   "cell_type": "code",
   "execution_count": null,
   "id": "4b15249e",
   "metadata": {},
   "outputs": [],
   "source": [
    "# Read in coordinate of particles\n",
    "i = 0\n",
    "subhalo_id = all_subhalo_ids[i]\n",
    "rot = rotation[i]\n",
    "\n",
    "# outdir = f'potential/subhalo_{subhalo_id}'\n",
    "# os.makedirs(outdir, exist_ok=True)\n",
    "\n",
    "subhalo_props = il.groupcat.loadSingle(basePath, 99, subhaloID=subhalo_id)\n",
    "x_dm = il.snapshot.loadSubhalo(basePath, 99, subhalo_id, 1, fields=['Coordinates', ])\n",
    "x_dm = (x_dm - subhalo_props['SubhaloPos']) / h\n",
    "x_dm = x_dm.dot(rot.T)\n",
    "\n",
    "data = il.snapshot.loadSubhalo(\n",
    "    basePath, 99, subhalo_id, 0, fields=['Coordinates', 'Masses', 'InternalEnergy', 'ElectronAbundance'])\n",
    "x_gas = (data['Coordinates'] - subhalo_props['SubhaloPos']) / h\n",
    "x_gas = x_gas.dot(rot.T)\n",
    "m_gas = il_to_msun(data['Masses'])\n",
    "m_gas_agama = msun_to_agama(m_gas)\n",
    "temp_gas = calc_temperature(data['InternalEnergy'], data['ElectronAbundance']).value\n",
    "\n",
    "data = il.snapshot.loadSubhalo(basePath, 99, subhalo_id, 4, fields=['Coordinates', 'Masses'])\n",
    "x_star = (data['Coordinates'] - subhalo_props['SubhaloPos']) / h\n",
    "x_star = x_star.dot(rot.T)\n",
    "m_star = il_to_msun(data['Masses'])\n",
    "m_star_agama = msun_to_agama(m_star)"
   ]
  },
  {
   "cell_type": "code",
   "execution_count": null,
   "id": "155c1434",
   "metadata": {},
   "outputs": [],
   "source": [
    "gas_bar_select = temp_gas < 1e5\n",
    "\n",
    "# calculate the bar potential\n",
    "particles_bar = (\n",
    "    np.vstack([x_gas[gas_bar_select], x_star]), \n",
    "    np.concatenate([m_gas_agama[gas_bar_select], m_star_agama])\n",
    ")\n",
    "potential_bar = agama.Potential(\n",
    "    type='CylSpline', symmetry='Axisymmetric', gridSizeR=25, gridSizeZ=25, mmax=4,\n",
    "    particles=particles_bar, )\n",
    "\n",
    "# calculate the halo potential\n",
    "particles_halo = (\n",
    "    np.vstack([x_gas[~gas_bar_select], x_dm]), \n",
    "    np.concatenate([m_gas_agama[~gas_bar_select], np.ones(len(x_dm)) * m_dm_agama])\n",
    ")\n",
    "potential_halo = agama.Potential(\n",
    "    type='Multipole', symmetry='Axissymmetric', gridSizeR=25, lmax=4, \n",
    "    particles=particles_halo)"
   ]
  },
  {
   "cell_type": "code",
   "execution_count": null,
   "id": "e0ee8587",
   "metadata": {},
   "outputs": [],
   "source": [
    "fig, axes = plt.subplots(1, 2, figsize=(15, 6), sharey=True, sharex=True)\n",
    "\n",
    "r_max = 100\n",
    "X = np.linspace(0.1, r_max, 200)\n",
    "Y = np.linspace(0.1, r_max, 200)\n",
    "R = np.sqrt(X**2 + Y**2)\n",
    "\n",
    "for z in [0.01, 1, 10, 40]:\n",
    "\n",
    "    Z = np.ones_like(X) * z\n",
    "    simulated_pos = np.stack([X, Y, Z], axis=1)\n",
    "    \n",
    "    # plot halo potential\n",
    "    pot = potential_halo.potential(simulated_pos)\n",
    "    axes[0].plot(R, pot, label=f'$z$ = {z} kpc')\n",
    "    \n",
    "    # plot bar potential\n",
    "    pot = potential_bar.potential(simulated_pos)\n",
    "    axes[1].plot(R, pot, label=f'$z$ = {z} kpc')\n",
    "    \n",
    "axes[0].set_ylabel(r'$\\Phi(r) \\; [\\mathrm{kpc}^2 / \\mathrm{Gyr}^2]$', fontsize=20)\n",
    "axes[0].set_xlabel('$r$ [kpc]', fontsize=20)\n",
    "axes[1].set_xlabel('$r$ [kpc]', fontsize=20)\n",
    "axes[0].set_title('Halo')\n",
    "axes[1].set_title('Bar')\n",
    "axes[0].legend(loc=4)\n",
    "\n",
    "fig.tight_layout()"
   ]
  },
  {
   "cell_type": "markdown",
   "id": "82797279",
   "metadata": {},
   "source": [
    "## Calculate the action-angle coordinates"
   ]
  },
  {
   "cell_type": "code",
   "execution_count": null,
   "id": "2ad657b9",
   "metadata": {},
   "outputs": [],
   "source": [
    "# Read in coordinate of particles\n",
    "i = 0\n",
    "subhalo_id = all_subhalo_ids[i]\n",
    "rot = rotation[i]\n",
    "\n",
    "subhalo_props = il.groupcat.loadSingle(basePath, 99, subhaloID=subhalo_id)\n",
    "data = il.snapshot.loadSubhalo(basePath, 99, subhalo_id, 4, fields=['Coordinates', 'Velocities'])\n",
    "x_star = (data['Coordinates'] - subhalo_props['SubhaloPos']) / h\n",
    "x_star = x_star.dot(rot.T)\n",
    "v_star = data['Velocities'] - subhalo_props['SubhaloVel']\n",
    "v_star = v_star.dot(rot.T)\n",
    "xv_star = np.hstack([x_star, v_star])\n",
    "\n",
    "potential_halo = agama.Potential(file=f'data/potential/subhalo_{subhalo_id}/99.dark.axi_4.coef_mul_DR')\n",
    "potential_bar = agama.Potential(file=f'data/potential/subhalo_{subhalo_id}/99.bar.axi_4.coef_cylsp_DR')\n",
    "potential_total = agama.Potential(potential_halo, potential_bar)\n",
    "action_finder = agama.ActionFinder(potential_total)\n",
    "\n",
    "# calculate action\n",
    "action_star = action_finder(xv_star)\n",
    "Jr, Jz, Jphi = action_star.T / 1000"
   ]
  },
  {
   "cell_type": "code",
   "execution_count": null,
   "id": "40a18503",
   "metadata": {},
   "outputs": [],
   "source": [
    "fig, axes = plt.subplots(1, 3, figsize=(15, 5))\n",
    "\n",
    "hist_range = ((0, 15), (0, 15), (-15, 15))\n",
    "norm = mpl.colors.LogNorm(vmin=1, vmax=1000)\n",
    "bins = 400\n",
    "\n",
    "select = ~(np.isnan(Jr) | (np.isnan(Jz)) | np.isnan(Jphi))\n",
    "axes[0].hist2d(\n",
    "    Jphi[select], Jr[select], bins=(bins, bins), \n",
    "    range=(hist_range[2], hist_range[0]), norm=norm)\n",
    "axes[1].hist2d(\n",
    "    Jphi[select], Jz[select], bins=(bins, bins), \n",
    "    range=(hist_range[2], hist_range[1]), norm=norm)\n",
    "axes[2].hist2d(\n",
    "    Jr[select], Jz[select], bins=(bins, bins), \n",
    "    range=(hist_range[0], hist_range[1]), norm=norm)\n",
    "\n",
    "\n",
    "axes[0].set_xlabel(r' $J_\\phi [\\mathrm{kpc}^2 \\mathrm{Myr}^{-1}]$')\n",
    "axes[1].set_xlabel(r' $J_\\phi [\\mathrm{kpc}^2 \\mathrm{Myr}^{-1}]$')\n",
    "axes[2].set_xlabel(r' $J_r [\\mathrm{kpc}^2 \\mathrm{Myr}^{-1}]$')\n",
    "axes[0].set_ylabel(r' $J_r [\\mathrm{kpc}^2 \\mathrm{Myr}^{-1}]$')\n",
    "axes[1].set_ylabel(r' $J_z [\\mathrm{kpc}^2 \\mathrm{Myr}^{-1}]$')\n",
    "axes[2].set_ylabel(r' $J_z [\\mathrm{kpc}^2 \\mathrm{Myr}^{-1}]$')\n",
    "\n",
    "fig.tight_layout()\n",
    "fig.savefig(f'figures/action/subhalo{subhalo_id}_n{i}.png', dpi=300, bbox_inches='tight')"
   ]
  }
 ],
 "metadata": {
  "kernelspec": {
   "display_name": "Python 3 (ipykernel)",
   "language": "python",
   "name": "python3"
  },
  "language_info": {
   "codemirror_mode": {
    "name": "ipython",
    "version": 3
   },
   "file_extension": ".py",
   "mimetype": "text/x-python",
   "name": "python",
   "nbconvert_exporter": "python",
   "pygments_lexer": "ipython3",
   "version": "3.9.7"
  }
 },
 "nbformat": 4,
 "nbformat_minor": 5
}
